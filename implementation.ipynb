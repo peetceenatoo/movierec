{
 "cells": [
  {
   "cell_type": "markdown",
   "metadata": {},
   "source": [
    "# **IMPORT**"
   ]
  },
  {
   "cell_type": "markdown",
   "metadata": {},
   "source": [
    "## Import libraries"
   ]
  },
  {
   "cell_type": "code",
   "execution_count": 312,
   "metadata": {},
   "outputs": [],
   "source": [
    "import pandas as pd\n",
    "import math"
   ]
  },
  {
   "cell_type": "markdown",
   "metadata": {},
   "source": [
    "## Load dataset"
   ]
  },
  {
   "cell_type": "code",
   "execution_count": 313,
   "metadata": {},
   "outputs": [],
   "source": [
    "dataset_path = f'./Datasets/dataset.csv'\n",
    "\n",
    "with open(dataset_path, 'rt') as f:\n",
    "    df = pd.read_csv(f)"
   ]
  },
  {
   "cell_type": "markdown",
   "metadata": {},
   "source": [
    "# **FILTER FUNCTION**"
   ]
  },
  {
   "cell_type": "markdown",
   "metadata": {},
   "source": [
    "## Define the filter function"
   ]
  },
  {
   "cell_type": "markdown",
   "metadata": {},
   "source": [
    "[1] \"Movies included in the array are those whose even one attribute value matches with the input value of the user.\""
   ]
  },
  {
   "cell_type": "code",
   "execution_count": 314,
   "metadata": {},
   "outputs": [],
   "source": [
    "def Filter(movies_df, minRating=0, maxRating=10, minYear=0, maxYear=math.inf, genres=[], directors=[], authors=[]):\n",
    "\n",
    "    # Get an empty dataframe\n",
    "    filtered_df = pd.DataFrame(columns=movies_df.columns) # [1]\n",
    "\n",
    "    # Take the movies which are in the range of the rating\n",
    "    if minRating > 0 or maxRating < 10:\n",
    "        rating_df = movies_df[movies_df['averageRating'] >= minRating]\n",
    "        rating_df = rating_df[rating_df['averageRating'] <= maxRating]\n",
    "        filtered_df = rating_df\n",
    "\n",
    "    # Take the movies which are in the range of the year\n",
    "    if minYear > 0 or maxYear < math.inf:\n",
    "        year_df = movies_df[movies_df['startYear'] >= minYear]\n",
    "        year_df = year_df[year_df['startYear'] <= maxYear]\n",
    "        filtered_df = pd.concat([filtered_df, year_df]).drop_duplicates() # [1]\n",
    "\n",
    "    # Take the movies from the movies_df such that genres list is contained in the list of comma-separated values in movies_df['genres'] if genres not empty\n",
    "    if genres:\n",
    "        genres_df = movies_df[movies_df['genres'].apply(lambda x: all(g in x for g in genres))]\n",
    "        filtered_df = pd.concat([filtered_df, genres_df]).drop_duplicates() # [1]\n",
    "\n",
    "    # Take the movies from the movies_df such that directors list is contained in the list of comma-separated values in movies_df['directors']\n",
    "    if directors:\n",
    "        directors_df = movies_df[movies_df['directors'].apply(lambda x: all(d in x for d in directors))]\n",
    "        filtered_df = pd.concat([filtered_df, directors_df]).drop_duplicates() # [1]\n",
    "\n",
    "    # Take the movies from the movies_df such that authors list is contained in the list of comma-separated values in movies_df['authors']\n",
    "    if authors:\n",
    "        authors_df = movies_df[movies_df['authors'].apply(lambda x: all(a in x for a in authors))]\n",
    "        filtered_df = pd.concat([filtered_df, authors_df]).drop_duplicates() # [1]\n",
    "\n",
    "    if filtered_df.empty: # [1]\n",
    "        return movies_df\n",
    "\n",
    "    return filtered_df"
   ]
  },
  {
   "cell_type": "markdown",
   "metadata": {},
   "source": [
    "# **RECOMMENDER FUNCTION**"
   ]
  },
  {
   "cell_type": "markdown",
   "metadata": {},
   "source": [
    "## Define the recommender function"
   ]
  },
  {
   "cell_type": "markdown",
   "metadata": {},
   "source": [
    "[1] \"In our research we have also found that generally a user prefer a list with five movies so we assume K equal to be 4 so that an average every K has five movies, where K is the number of cluster to be formed.\"\n",
    "\n",
    "[2] \"For each cluster k1, k2 , k3, k4 we assume initial centroid c1, c2, c3, c4 which corresponds to the first, sixth, eleventh, and sixteenth movie in the movie array.\"\n",
    "\n",
    "[3] \"The distance measure we have used to calculate the distance between data points and centroid is the Euclidean Distance.\""
   ]
  },
  {
   "cell_type": "markdown",
   "metadata": {},
   "source": [
    "[A] One-hot encoding for categorical variables"
   ]
  },
  {
   "cell_type": "code",
   "execution_count": 315,
   "metadata": {},
   "outputs": [],
   "source": [
    "def MovieREC(movies_df, n_clusters=4): # [1]\n",
    "\n",
    "    #  ---- Filtering top 20 movies with highest average rating ---- #\n",
    " \n",
    "    # Return an empty list if the input list is empty\n",
    "    if len(movies_df) == 0:\n",
    "        return list()\n",
    "    \n",
    "    # Resize the number of clusters based on the number of movies in the input list if there are less than 20 movies\n",
    "    # Otherwise keep the 20 movies with highest average rating, giving priority by number of ratings\n",
    "    if len(movies_df) < 20:\n",
    "        n_clusters = math.ceil(n_clusters * (len(movies_df)/20)) \n",
    "    else:\n",
    "        movies_df = movies_df.sort_values(by=['averageRating', 'numVotes'], ascending=False).head(20)\n",
    "\n",
    "    # Drop column num_ratings\n",
    "    movies_df = movies_df.drop(columns=['numVotes'])\n",
    "\n",
    "    # ---- K-Means Clustering Initialization ---- #\n",
    "\n",
    "    # Create a dictionary which assigns to each column index in movie_df their name (averageRating, startYear, genres, directors, authors)\n",
    "    num_of_columns = 5\n",
    "    col_names = {i: movies_df.columns[i+1] for i in range(num_of_columns)}\n",
    "\n",
    "    # Now let us create a matrix with num_clusers rows and one column for each column in (averageRating, startYear, genres, directors, authors)\n",
    "    # Pick evenly spaced n_clusters indeces from the list of movies, starting from the index 0, up to len-1\n",
    "    centroids_init_indexes = [math.floor(i * len(movies_df)/n_clusters)+1 for i in range(n_clusters)] # [2]\n",
    "    # Store for each centroid (movie) the values of its corresponding columns in the movies_df for averageRating and startYear\n",
    "    centroids = [[movies_df.iloc[centroids_init_indexes[j]][col_names[i]] for i in range(2)] for j in range(n_clusters)]\n",
    "    # And append to each centroid (movie) three dictionaries which assign 1 to the values in the corresponding list, for genres, directors and authors\n",
    "    for i in range(n_clusters):\n",
    "        for j in range(2, num_of_columns):\n",
    "            centroids[i].append( {x: 1 for x in movies_df.iloc[centroids_init_indexes[i]][col_names[j]].split(',')} ) # [A]\n",
    "\n",
    "    # Create a list of clusters, where each cluster is the list of indexes of the movies in the movies_df\n",
    "    clusters = [[] for i in range(n_clusters)]\n",
    "        \n",
    "    # Initialize to True a \"changing\" flag, which will be set to False when the centroids stop changing\n",
    "    changing = True\n",
    "\n",
    "    # ---- K-Means Algorithm ---- #\n",
    "\n",
    "    # While the centroids keep changing...\n",
    "    while changing:\n",
    "\n",
    "        # Store a copy of the previous clusters\n",
    "        prev_clusters = clusters.copy()\n",
    "\n",
    "        # Empty the list of clusters\n",
    "        clusters = [[] for i in range(n_clusters)]\n",
    "\n",
    "        # Set the changing flag to False\n",
    "        changing = False\n",
    "\n",
    "        # Now, for each movie in the movies_df compute its cluster\n",
    "        for i in range(len(movies_df)):\n",
    "\n",
    "            # Save a tuple (math.inf, -1) to store the minimum distance and the index of the closest centroid\n",
    "            min_distance = (math.inf, -1)\n",
    "\n",
    "            # And compute the closest centroid for the movie i\n",
    "            for c_idx in range(n_clusters):\n",
    "\n",
    "                # Init the one-dimension distances list\n",
    "                tempDistances = []\n",
    "\n",
    "                # Compute the 1D distances for the averageRating and startYear columns\n",
    "                for j in range(2):\n",
    "                    tempDistances.append(movies_df.iloc[i][col_names[j]] - centroids[c_idx][j])\n",
    "\n",
    "                # Compute the 1D one-hot tempDistance for genres, directors and authors as well\n",
    "                for j in range(2, num_of_columns):\n",
    "\n",
    "                    # By summing 1 for each value in movies_df[col_names[j]][i] not in centroids[c_idx][j].keys()\n",
    "                    tempBoth = sum([1 for x in movies_df.iloc[i][col_names[j]] if x not in centroids[c_idx][j].keys()])\n",
    "                    # Summing (1 - centroids[c_idx][j][x]) for each x both in movies_df[col_names[j]][i] and in centroids[c_idx][j].keys()\n",
    "                    tempMovie = sum([1 - centroids[c_idx][j][x] for x in movies_df.iloc[i][col_names[j]] if x in centroids[c_idx][j].keys()])\n",
    "                    # Summing centroids[c_idx][j][x] for each x in centroids[c_idx][j].keys() and not in movies_df[col_names[j]][i]\n",
    "                    tempCentroid = sum([centroids[c_idx][j][x] for x in centroids[c_idx][j].keys() if x not in movies_df.iloc[i][col_names[j]]])\n",
    "\n",
    "                    # And then appending the overall sum to the 1D distances list\n",
    "                    tempDistances.append(tempBoth + tempMovie + tempCentroid)\n",
    "\n",
    "                # Compute the Euclidean distance between the movie i and the centroid c_idx\n",
    "                distance = math.sqrt(sum([x**2 for x in tempDistances])) # [3]\n",
    "                                    \n",
    "                # If the distance is less than the minimum distance, update the minimum distance and the index of the closest centroid\n",
    "                if distance < min_distance[0]:\n",
    "                    min_distance = (distance, c_idx)\n",
    "\n",
    "            # To finally add the movie i to the cluster of the closest centroid\n",
    "            clusters[min_distance[1]].append(i)\n",
    "\n",
    "        # Now compute the new centroids as the average of the movies in each cluster\n",
    "        for i in range(n_clusters):\n",
    "\n",
    "            if len(clusters[i]) == 0:\n",
    "                continue\n",
    "\n",
    "            # Compute the average of the averageRating and startYear columns (easy)\n",
    "            centroids[i] = [sum([movies_df.iloc[m][col_names[j]] for m in clusters[i]])/len(clusters[i]) for j in range(2)]\n",
    "\n",
    "            # And append three dictionaries which assign the avg for each value in genres, directors and authors with respect to the movies in the cluster\n",
    "            # Remember we started using one-hot encoding, so the average will be a number between 0 and 1 for each value of each column\n",
    "            for j in range(2, num_of_columns):\n",
    "                # Compute occurrencies of values in the current column for all the movies in the current cluster\n",
    "                centroids[i].append({})\n",
    "                for m in clusters[i]:\n",
    "                    for v in movies_df.iloc[m][col_names[j]].split(','):\n",
    "                        if v in centroids[i][j].keys():\n",
    "                            centroids[i][j][v] += 1\n",
    "                        else:\n",
    "                            centroids[i][j][v] = 1\n",
    "                # And make them an \"average\"\n",
    "                centroids[i][j] = {key: value / len(clusters[i]) for key, value in centroids[i][j].items()}  \n",
    "\n",
    "        # Now set the changing flag to True if CLUSTERS have changed\n",
    "        for i in range(n_clusters):\n",
    "            for j in range(num_of_columns):\n",
    "                if set(clusters[i]) != set(prev_clusters[i]):\n",
    "                    changing = True\n",
    "                    break\n",
    "\n",
    "        # If they did not change, K-Means has converged and we will stop\n",
    "\n",
    "    # ---- Pick best cluster ---- #\n",
    "            \n",
    "    clusters_dict = {}\n",
    "\n",
    "    # Compute the weighted average movie rating for each cluster\n",
    "    # Each cluster contains at least one movie with non-zero weight, so we can safely compute the weighted average\n",
    "    for idx, cl in enumerate(clusters):\n",
    "        weights_sum = 0\n",
    "        clusters_dict[idx] = 0\n",
    "        for i in cl:\n",
    "            weights_sum += movies_df.iloc[i]['weight']\n",
    "            clusters_dict[idx] += movies_df.iloc[i]['averageRating'] * movies_df.iloc[i]['weight']\n",
    "        if weights_sum != 0:\n",
    "            clusters_dict[idx] /= weights_sum\n",
    "\n",
    "    # Return the cluster with the highest weighted average movie rating\n",
    "    return movies_df.iloc[clusters[max(clusters_dict, key=clusters_dict.get)]].sort_values(by='averageRating') # max() returns the first key with the highest value\n"
   ]
  },
  {
   "cell_type": "markdown",
   "metadata": {},
   "source": [
    "# **EXECUTION**"
   ]
  },
  {
   "cell_type": "markdown",
   "metadata": {},
   "source": [
    "## Check that the recommendations are deterministic"
   ]
  },
  {
   "cell_type": "markdown",
   "metadata": {},
   "source": [
    "Execute once."
   ]
  },
  {
   "cell_type": "code",
   "execution_count": 316,
   "metadata": {},
   "outputs": [
    {
     "data": {
      "text/html": [
       "<div>\n",
       "<style scoped>\n",
       "    .dataframe tbody tr th:only-of-type {\n",
       "        vertical-align: middle;\n",
       "    }\n",
       "\n",
       "    .dataframe tbody tr th {\n",
       "        vertical-align: top;\n",
       "    }\n",
       "\n",
       "    .dataframe thead th {\n",
       "        text-align: right;\n",
       "    }\n",
       "</style>\n",
       "<table border=\"1\" class=\"dataframe\">\n",
       "  <thead>\n",
       "    <tr style=\"text-align: right;\">\n",
       "      <th></th>\n",
       "      <th>tconst</th>\n",
       "      <th>averageRating</th>\n",
       "      <th>startYear</th>\n",
       "      <th>genres</th>\n",
       "      <th>directors</th>\n",
       "      <th>writers</th>\n",
       "      <th>weight</th>\n",
       "    </tr>\n",
       "  </thead>\n",
       "  <tbody>\n",
       "    <tr>\n",
       "      <th>11948</th>\n",
       "      <td>tt0446623</td>\n",
       "      <td>10.0</td>\n",
       "      <td>1989</td>\n",
       "      <td>Family</td>\n",
       "      <td>nm1829612</td>\n",
       "      <td>nm1855809</td>\n",
       "      <td>10.025431</td>\n",
       "    </tr>\n",
       "    <tr>\n",
       "      <th>17976</th>\n",
       "      <td>tt12426598</td>\n",
       "      <td>10.0</td>\n",
       "      <td>2005</td>\n",
       "      <td>Adult,Animation,Comedy</td>\n",
       "      <td>nm5949831</td>\n",
       "      <td>nm5949831</td>\n",
       "      <td>10.021278</td>\n",
       "    </tr>\n",
       "  </tbody>\n",
       "</table>\n",
       "</div>"
      ],
      "text/plain": [
       "           tconst  averageRating  startYear                  genres   \n",
       "11948   tt0446623           10.0       1989                  Family  \\\n",
       "17976  tt12426598           10.0       2005  Adult,Animation,Comedy   \n",
       "\n",
       "       directors    writers     weight  \n",
       "11948  nm1829612  nm1855809  10.025431  \n",
       "17976  nm5949831  nm5949831  10.021278  "
      ]
     },
     "execution_count": 316,
     "metadata": {},
     "output_type": "execute_result"
    }
   ],
   "source": [
    "MovieREC(Filter(df))"
   ]
  },
  {
   "cell_type": "markdown",
   "metadata": {},
   "source": [
    "Execute twice."
   ]
  },
  {
   "cell_type": "code",
   "execution_count": 317,
   "metadata": {},
   "outputs": [
    {
     "data": {
      "text/html": [
       "<div>\n",
       "<style scoped>\n",
       "    .dataframe tbody tr th:only-of-type {\n",
       "        vertical-align: middle;\n",
       "    }\n",
       "\n",
       "    .dataframe tbody tr th {\n",
       "        vertical-align: top;\n",
       "    }\n",
       "\n",
       "    .dataframe thead th {\n",
       "        text-align: right;\n",
       "    }\n",
       "</style>\n",
       "<table border=\"1\" class=\"dataframe\">\n",
       "  <thead>\n",
       "    <tr style=\"text-align: right;\">\n",
       "      <th></th>\n",
       "      <th>tconst</th>\n",
       "      <th>averageRating</th>\n",
       "      <th>startYear</th>\n",
       "      <th>genres</th>\n",
       "      <th>directors</th>\n",
       "      <th>writers</th>\n",
       "      <th>weight</th>\n",
       "    </tr>\n",
       "  </thead>\n",
       "  <tbody>\n",
       "    <tr>\n",
       "      <th>11948</th>\n",
       "      <td>tt0446623</td>\n",
       "      <td>10.0</td>\n",
       "      <td>1989</td>\n",
       "      <td>Family</td>\n",
       "      <td>nm1829612</td>\n",
       "      <td>nm1855809</td>\n",
       "      <td>10.025431</td>\n",
       "    </tr>\n",
       "    <tr>\n",
       "      <th>17976</th>\n",
       "      <td>tt12426598</td>\n",
       "      <td>10.0</td>\n",
       "      <td>2005</td>\n",
       "      <td>Adult,Animation,Comedy</td>\n",
       "      <td>nm5949831</td>\n",
       "      <td>nm5949831</td>\n",
       "      <td>10.021278</td>\n",
       "    </tr>\n",
       "  </tbody>\n",
       "</table>\n",
       "</div>"
      ],
      "text/plain": [
       "           tconst  averageRating  startYear                  genres   \n",
       "11948   tt0446623           10.0       1989                  Family  \\\n",
       "17976  tt12426598           10.0       2005  Adult,Animation,Comedy   \n",
       "\n",
       "       directors    writers     weight  \n",
       "11948  nm1829612  nm1855809  10.025431  \n",
       "17976  nm5949831  nm5949831  10.021278  "
      ]
     },
     "execution_count": 317,
     "metadata": {},
     "output_type": "execute_result"
    }
   ],
   "source": [
    "MovieREC(Filter(df))"
   ]
  },
  {
   "cell_type": "markdown",
   "metadata": {},
   "source": [
    "## Filtering"
   ]
  },
  {
   "cell_type": "markdown",
   "metadata": {},
   "source": [
    "Let's try to filter out the preceiding results to see some different ones."
   ]
  },
  {
   "cell_type": "code",
   "execution_count": 318,
   "metadata": {},
   "outputs": [
    {
     "data": {
      "text/html": [
       "<div>\n",
       "<style scoped>\n",
       "    .dataframe tbody tr th:only-of-type {\n",
       "        vertical-align: middle;\n",
       "    }\n",
       "\n",
       "    .dataframe tbody tr th {\n",
       "        vertical-align: top;\n",
       "    }\n",
       "\n",
       "    .dataframe thead th {\n",
       "        text-align: right;\n",
       "    }\n",
       "</style>\n",
       "<table border=\"1\" class=\"dataframe\">\n",
       "  <thead>\n",
       "    <tr style=\"text-align: right;\">\n",
       "      <th></th>\n",
       "      <th>tconst</th>\n",
       "      <th>averageRating</th>\n",
       "      <th>startYear</th>\n",
       "      <th>genres</th>\n",
       "      <th>directors</th>\n",
       "      <th>writers</th>\n",
       "      <th>weight</th>\n",
       "    </tr>\n",
       "  </thead>\n",
       "  <tbody>\n",
       "    <tr>\n",
       "      <th>38421</th>\n",
       "      <td>tt9319770</td>\n",
       "      <td>4.0</td>\n",
       "      <td>2021</td>\n",
       "      <td>Drama,Sci-Fi</td>\n",
       "      <td>nm0177512,nm0086745,nm1171810,nm0502497,nm1325...</td>\n",
       "      <td>nm0248404,nm2325207,nm0676671,nm8872137,nm1307...</td>\n",
       "      <td>2.042632</td>\n",
       "    </tr>\n",
       "  </tbody>\n",
       "</table>\n",
       "</div>"
      ],
      "text/plain": [
       "          tconst  averageRating  startYear        genres   \n",
       "38421  tt9319770            4.0       2021  Drama,Sci-Fi  \\\n",
       "\n",
       "                                               directors   \n",
       "38421  nm0177512,nm0086745,nm1171810,nm0502497,nm1325...  \\\n",
       "\n",
       "                                                 writers    weight  \n",
       "38421  nm0248404,nm2325207,nm0676671,nm8872137,nm1307...  2.042632  "
      ]
     },
     "execution_count": 318,
     "metadata": {},
     "output_type": "execute_result"
    }
   ],
   "source": [
    "MovieREC(Filter(df, minRating=2, maxRating=4))"
   ]
  },
  {
   "cell_type": "markdown",
   "metadata": {},
   "source": [
    "Let's try to di the same by filtering by another attribute."
   ]
  },
  {
   "cell_type": "code",
   "execution_count": 319,
   "metadata": {},
   "outputs": [
    {
     "data": {
      "text/html": [
       "<div>\n",
       "<style scoped>\n",
       "    .dataframe tbody tr th:only-of-type {\n",
       "        vertical-align: middle;\n",
       "    }\n",
       "\n",
       "    .dataframe tbody tr th {\n",
       "        vertical-align: top;\n",
       "    }\n",
       "\n",
       "    .dataframe thead th {\n",
       "        text-align: right;\n",
       "    }\n",
       "</style>\n",
       "<table border=\"1\" class=\"dataframe\">\n",
       "  <thead>\n",
       "    <tr style=\"text-align: right;\">\n",
       "      <th></th>\n",
       "      <th>tconst</th>\n",
       "      <th>averageRating</th>\n",
       "      <th>startYear</th>\n",
       "      <th>genres</th>\n",
       "      <th>directors</th>\n",
       "      <th>writers</th>\n",
       "      <th>weight</th>\n",
       "    </tr>\n",
       "  </thead>\n",
       "  <tbody>\n",
       "    <tr>\n",
       "      <th>36833</th>\n",
       "      <td>tt8138362</td>\n",
       "      <td>10.0</td>\n",
       "      <td>2017</td>\n",
       "      <td>Comedy</td>\n",
       "      <td>nm4579990</td>\n",
       "      <td>nm4303373,nm4304082,nm7529108</td>\n",
       "      <td>10.19878</td>\n",
       "    </tr>\n",
       "  </tbody>\n",
       "</table>\n",
       "</div>"
      ],
      "text/plain": [
       "          tconst  averageRating startYear  genres  directors   \n",
       "36833  tt8138362           10.0      2017  Comedy  nm4579990  \\\n",
       "\n",
       "                             writers    weight  \n",
       "36833  nm4303373,nm4304082,nm7529108  10.19878  "
      ]
     },
     "execution_count": 319,
     "metadata": {},
     "output_type": "execute_result"
    }
   ],
   "source": [
    "MovieREC(Filter(df, minYear=2006, maxYear=2020))"
   ]
  },
  {
   "cell_type": "markdown",
   "metadata": {},
   "source": [
    "Although, filtering by low ratings is usually not effective when filtering by more attributes as well...\n",
    "\n",
    "Indeed, the system only considers the top 20 movies by average rating once the movies are filtered, and the filter conditions are not exclusive (see above)."
   ]
  },
  {
   "cell_type": "code",
   "execution_count": 320,
   "metadata": {},
   "outputs": [
    {
     "data": {
      "text/html": [
       "<div>\n",
       "<style scoped>\n",
       "    .dataframe tbody tr th:only-of-type {\n",
       "        vertical-align: middle;\n",
       "    }\n",
       "\n",
       "    .dataframe tbody tr th {\n",
       "        vertical-align: top;\n",
       "    }\n",
       "\n",
       "    .dataframe thead th {\n",
       "        text-align: right;\n",
       "    }\n",
       "</style>\n",
       "<table border=\"1\" class=\"dataframe\">\n",
       "  <thead>\n",
       "    <tr style=\"text-align: right;\">\n",
       "      <th></th>\n",
       "      <th>tconst</th>\n",
       "      <th>averageRating</th>\n",
       "      <th>startYear</th>\n",
       "      <th>genres</th>\n",
       "      <th>directors</th>\n",
       "      <th>writers</th>\n",
       "      <th>weight</th>\n",
       "    </tr>\n",
       "  </thead>\n",
       "  <tbody>\n",
       "    <tr>\n",
       "      <th>24806</th>\n",
       "      <td>tt2055479</td>\n",
       "      <td>9.9</td>\n",
       "      <td>1958</td>\n",
       "      <td>Family</td>\n",
       "      <td>nm0956985</td>\n",
       "      <td>nm0956985</td>\n",
       "      <td>9.917714</td>\n",
       "    </tr>\n",
       "    <tr>\n",
       "      <th>11042</th>\n",
       "      <td>tt0404590</td>\n",
       "      <td>9.8</td>\n",
       "      <td>1961</td>\n",
       "      <td>Music</td>\n",
       "      <td>nm0498653</td>\n",
       "      <td>nm0143922</td>\n",
       "      <td>9.805999</td>\n",
       "    </tr>\n",
       "    <tr>\n",
       "      <th>7964</th>\n",
       "      <td>tt0259785</td>\n",
       "      <td>9.7</td>\n",
       "      <td>1958</td>\n",
       "      <td>Drama,Family,Romance</td>\n",
       "      <td>nm0111357</td>\n",
       "      <td>nm0017301,nm1522821</td>\n",
       "      <td>9.703768</td>\n",
       "    </tr>\n",
       "  </tbody>\n",
       "</table>\n",
       "</div>"
      ],
      "text/plain": [
       "          tconst  averageRating  startYear                genres  directors   \n",
       "24806  tt2055479            9.9       1958                Family  nm0956985  \\\n",
       "11042  tt0404590            9.8       1961                 Music  nm0498653   \n",
       "7964   tt0259785            9.7       1958  Drama,Family,Romance  nm0111357   \n",
       "\n",
       "                   writers    weight  \n",
       "24806            nm0956985  9.917714  \n",
       "11042            nm0143922  9.805999  \n",
       "7964   nm0017301,nm1522821  9.703768  "
      ]
     },
     "execution_count": 320,
     "metadata": {},
     "output_type": "execute_result"
    }
   ],
   "source": [
    "MovieREC(Filter(df, minRating=4.5, maxRating=4.5, minYear=1940, maxYear=2006))"
   ]
  }
 ],
 "metadata": {
  "kernelspec": {
   "display_name": "Python 3",
   "language": "python",
   "name": "python3"
  },
  "language_info": {
   "codemirror_mode": {
    "name": "ipython",
    "version": 3
   },
   "file_extension": ".py",
   "mimetype": "text/x-python",
   "name": "python",
   "nbconvert_exporter": "python",
   "pygments_lexer": "ipython3",
   "version": "3.10.2"
  }
 },
 "nbformat": 4,
 "nbformat_minor": 2
}
