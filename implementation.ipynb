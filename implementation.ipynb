{
 "cells": [
  {
   "cell_type": "markdown",
   "metadata": {},
   "source": [
    "# **IMPORT**"
   ]
  },
  {
   "cell_type": "markdown",
   "metadata": {},
   "source": [
    "## Import libraries"
   ]
  },
  {
   "cell_type": "code",
   "execution_count": 139,
   "metadata": {},
   "outputs": [],
   "source": [
    "import pandas as pd\n",
    "import math"
   ]
  },
  {
   "cell_type": "markdown",
   "metadata": {},
   "source": [
    "## Load dataset"
   ]
  },
  {
   "cell_type": "code",
   "execution_count": 140,
   "metadata": {},
   "outputs": [],
   "source": [
    "dataset_path = f'./Datasets/dataset.csv'\n",
    "\n",
    "with open(dataset_path, 'rt') as f:\n",
    "    df = pd.read_csv(f)"
   ]
  },
  {
   "cell_type": "markdown",
   "metadata": {},
   "source": [
    "# **FILTER FUNCTION**"
   ]
  },
  {
   "cell_type": "markdown",
   "metadata": {},
   "source": [
    "## Define the filter function"
   ]
  },
  {
   "cell_type": "markdown",
   "metadata": {},
   "source": [
    "[1] \"Movies included in the array are those whose even one attribute value matches with the input value of the user.\""
   ]
  },
  {
   "cell_type": "code",
   "execution_count": 141,
   "metadata": {},
   "outputs": [],
   "source": [
    "def Filter(movies_df, minRating=0, maxRating=10, minYear=0, maxYear=math.inf, genres=[], directors=[], authors=[]):\n",
    "\n",
    "    # Take the movies which are in the range of the rating\n",
    "    rating_df = movies_df[movies_df['averageRating'] >= minRating]\n",
    "    rating_df = rating_df[rating_df['averageRating'] <= maxRating]\n",
    "\n",
    "    # Take the movies which are in the range of the year\n",
    "    year_df = movies_df[movies_df['startYear'] >= minYear]\n",
    "    year_df = year_df[year_df['startYear'] <= maxYear]\n",
    "\n",
    "    # Take the movies from the movies_df such that genres list is contained in the list of comma-separated values in movies_df['genres']\n",
    "    if genres:\n",
    "        genres_df = movies_df[movies_df['genres'].apply(lambda x: all(g in x for g in genres))]\n",
    "    else:\n",
    "        genres_df = movies_df\n",
    "\n",
    "    # Take the movies from the movies_df such that directors list is contained in the list of comma-separated values in movies_df['directors']\n",
    "    if directors:\n",
    "        directors_df = movies_df[movies_df['directors'].apply(lambda x: all(d in x for d in directors))]\n",
    "    else:\n",
    "        directors_df = movies_df\n",
    "\n",
    "    # Take the movies from the movies_df such that authors list is contained in the list of comma-separated values in movies_df['authors']\n",
    "    if authors:\n",
    "        authors_df = movies_df[movies_df['authors'].apply(lambda x: all(a in x for a in authors))]\n",
    "    else:\n",
    "        authors_df = movies_df\n",
    "\n",
    "    # Take the union of all the dataframes avoiding duplicates\n",
    "    filtered_df = pd.concat([rating_df, year_df, genres_df, directors_df, authors_df]).drop_duplicates() # [1]\n",
    "\n",
    "    return filtered_df"
   ]
  },
  {
   "cell_type": "markdown",
   "metadata": {},
   "source": [
    "# **RECOMMENDER FUNCTION**"
   ]
  },
  {
   "cell_type": "markdown",
   "metadata": {},
   "source": [
    "## Define the recommender function"
   ]
  },
  {
   "cell_type": "markdown",
   "metadata": {},
   "source": [
    "[1] \"In our research we have also found that generally a user prefer a list with five movies so we assume K equal to be 4 so that an average every K has five movies, where K is the number of cluster to be formed.\"\n",
    "\n",
    "[2] \"For each cluster k1, k2 , k3, k4 we assume initial centroid c1, c2, c3, c4 which corresponds to the first, sixth, eleventh, and sixteenth movie in the movie array.\"\n",
    "\n",
    "[3] \"The distance measure we have used to calculate the distance between data points and centroid is the Euclidean Distance.\""
   ]
  },
  {
   "cell_type": "markdown",
   "metadata": {},
   "source": [
    "[A] One-hot encoding for categorical variables"
   ]
  },
  {
   "cell_type": "code",
   "execution_count": 142,
   "metadata": {},
   "outputs": [],
   "source": [
    "def MovieREC(movies_df, n_clusters=4): # [1]\n",
    "\n",
    "    #  ---- Filtering top 20 movies with highest average rating ---- #\n",
    " \n",
    "    # Return an empty list if the input list is empty\n",
    "    if len(movies_df) == 0:\n",
    "        return list()\n",
    "    \n",
    "    # Resize the number of clusters based on the number of movies in the input list if there are less than 20 movies\n",
    "    # Otherwise keep the 20 movies with highest average rating, giving priority by number of ratings\n",
    "    if len(movies_df) < 20:\n",
    "        n_clusters = math.ceil(n_clusters * (len(movies_df)/20)) \n",
    "    else:\n",
    "        movies_df = movies_df.sort_values(by=['averageRating', 'numVotes'], ascending=False).head(20)\n",
    "\n",
    "    # Drop column num_ratings\n",
    "    movies_df = movies_df.drop(columns=['numVotes'])\n",
    "\n",
    "    # ---- K-Means Clustering Initialization ---- #\n",
    "\n",
    "    # Create a dictionary which assigns to each column index in movie_df their name (averageRating, startYear, genres, directors, authors)\n",
    "    num_of_columns = 5\n",
    "    col_names = {i: movies_df.columns[i+1] for i in range(num_of_columns)}\n",
    "\n",
    "    # Now let us create a matrix with num_clusers rows and one column for each column in (averageRating, startYear, genres, directors, authors)\n",
    "    # Pick evenly spaced n_clusters indeces from the list of movies, starting from the index 0, up to len-1\n",
    "    centroids_init_indexes = [math.floor(i * len(movies_df)/n_clusters)+1 for i in range(n_clusters)] # [2]\n",
    "    # Store for each centroid (movie) the values of its corresponding columns in the movies_df for averageRating and startYear\n",
    "    centroids = [[movies_df.iloc[centroids_init_indexes[j]][col_names[i]] for i in range(2)] for j in range(n_clusters)]\n",
    "    # And append to each centroid (movie) three dictionaries which assign 1 to the values in the corresponding list, for genres, directors and authors\n",
    "    for i in range(n_clusters):\n",
    "        for j in range(2, num_of_columns):\n",
    "            centroids[i].append( {x: 1 for x in movies_df.iloc[centroids_init_indexes[i]][col_names[j]].split(',')} ) # [A]\n",
    "\n",
    "    # Create a list of clusters, where each cluster is the list of indexes of the movies in the movies_df\n",
    "    clusters = [[] for i in range(n_clusters)]\n",
    "        \n",
    "    # Initialize to True a \"changing\" flag, which will be set to False when the centroids stop changing\n",
    "    changing = True\n",
    "\n",
    "    # ---- K-Means Algorithm ---- #\n",
    "\n",
    "    # While the centroids keep changing...\n",
    "    while changing:\n",
    "\n",
    "        # Store a copy of the previous clusters\n",
    "        prev_clusters = clusters.copy()\n",
    "\n",
    "        # Empty the list of clusters\n",
    "        clusters = [[] for i in range(n_clusters)]\n",
    "\n",
    "        # Set the changing flag to False\n",
    "        changing = False\n",
    "\n",
    "        # Now, for each movie in the movies_df compute its cluster\n",
    "        for i in range(len(movies_df)):\n",
    "\n",
    "            # Save a tuple (math.inf, -1) to store the minimum distance and the index of the closest centroid\n",
    "            min_distance = (math.inf, -1)\n",
    "\n",
    "            # And compute the closest centroid for the movie i\n",
    "            for c_idx in range(n_clusters):\n",
    "\n",
    "                # Init the one-dimension distances list\n",
    "                tempDistances = []\n",
    "\n",
    "                # Compute the 1D distances for the averageRating and startYear columns\n",
    "                for j in range(2):\n",
    "                    tempDistances.append(movies_df.iloc[i][col_names[j]] - centroids[c_idx][j])\n",
    "\n",
    "                # Compute the 1D one-hot tempDistance for genres, directors and authors as well\n",
    "                for j in range(2, num_of_columns):\n",
    "\n",
    "                    # By summing 1 for each value in movies_df[col_names[j]][i] not in centroids[c_idx][j].keys()\n",
    "                    tempBoth = sum([1 for x in movies_df.iloc[i][col_names[j]] if x not in centroids[c_idx][j].keys()])\n",
    "                    # Summing (1 - centroids[c_idx][j][x]) for each x both in movies_df[col_names[j]][i] and in centroids[c_idx][j].keys()\n",
    "                    tempMovie = sum([1 - centroids[c_idx][j][x] for x in movies_df.iloc[i][col_names[j]] if x in centroids[c_idx][j].keys()])\n",
    "                    # Summing centroids[c_idx][j][x] for each x in centroids[c_idx][j].keys() and not in movies_df[col_names[j]][i]\n",
    "                    tempCentroid = sum([centroids[c_idx][j][x] for x in centroids[c_idx][j].keys() if x not in movies_df.iloc[i][col_names[j]]])\n",
    "\n",
    "                    # And then appending the overall sum to the 1D distances list\n",
    "                    tempDistances.append(tempBoth + tempMovie + tempCentroid)\n",
    "\n",
    "                # Compute the Euclidean distance between the movie i and the centroid c_idx\n",
    "                distance = math.sqrt(sum([x**2 for x in tempDistances])) # [3]\n",
    "                                    \n",
    "                # If the distance is less than the minimum distance, update the minimum distance and the index of the closest centroid\n",
    "                if distance < min_distance[0]:\n",
    "                    min_distance = (distance, c_idx)\n",
    "\n",
    "            # To finally add the movie i to the cluster of the closest centroid\n",
    "            clusters[min_distance[1]].append(i)\n",
    "\n",
    "        # Now compute the new centroids as the average of the movies in each cluster\n",
    "        for i in range(n_clusters):\n",
    "\n",
    "            # Compute the average of the averageRating and startYear columns (easy)\n",
    "            centroids[i] = [sum([movies_df.iloc[j][col_names[k]] for j in clusters[i]])/len(clusters[i]) for k in range(2)]\n",
    "\n",
    "            # And append to the new centroids three dictionaries which assign the avg for each value in genres, directors and authors with respect to the movies in the cluster\n",
    "            # Remember we started using one-hot encoding, so the average will be a number between 0 and 1 for each value of each column\n",
    "            for i in range(n_clusters):\n",
    "                for j in range(2, num_of_columns):\n",
    "                    # Compute occurrencies of values in the current column for all the movies in the current cluster\n",
    "                    centroids[i].append({})\n",
    "                    for m in clusters[i]:\n",
    "                        for v in movies_df.iloc[m][col_names[j]].split(','):\n",
    "                            if v in centroids[i][j].keys():\n",
    "                                centroids[i][j][v] += 1\n",
    "                            else:\n",
    "                                centroids[i][j][v] = 1\n",
    "                    # And make them an \"average\"\n",
    "                    centroids[i][j] = {key: value / len(clusters[i]) for key, value in centroids[i][j].items()}    \n",
    "\n",
    "        # Now set the changing flag to True if CLUSTERS have changed\n",
    "        for i in range(n_clusters):\n",
    "            for j in range(num_of_columns):\n",
    "                if set(clusters[i]) != set(prev_clusters[i]):\n",
    "                    changing = True\n",
    "                    break\n",
    "\n",
    "        # If they did not change, K-Means has converged and we will stop\n",
    "\n",
    "    # ---- Pick best cluster ---- #\n",
    "            \n",
    "    clusters_dict = {}\n",
    "\n",
    "    # Compute the weighted average movie rating for each cluster\n",
    "    # Each cluster contains at least one movie with non-zero weight, so we can safely compute the weighted average\n",
    "    for idx, cl in enumerate(clusters):\n",
    "        weights_sum = 0\n",
    "        weighted_sum = 0\n",
    "        for i in cl:\n",
    "            weights_sum += movies_df.iloc[i]['weight']\n",
    "            weighted_sum += movies_df.iloc[i]['averageRating'] * movies_df.iloc[i]['weight']\n",
    "        clusters_dict[idx] = weighted_sum/weights_sum\n",
    "\n",
    "    # Return the cluster with the highest weighted average movie rating\n",
    "    return clusters[max(clusters_dict, key=clusters_dict.get)] # max() returns the first key with the highest value\n"
   ]
  },
  {
   "cell_type": "markdown",
   "metadata": {},
   "source": [
    "# **EXECUTION**"
   ]
  },
  {
   "cell_type": "markdown",
   "metadata": {},
   "source": [
    "## Find recommendations with no filtering"
   ]
  },
  {
   "cell_type": "code",
   "execution_count": 144,
   "metadata": {},
   "outputs": [
    {
     "data": {
      "text/html": [
       "<div>\n",
       "<style scoped>\n",
       "    .dataframe tbody tr th:only-of-type {\n",
       "        vertical-align: middle;\n",
       "    }\n",
       "\n",
       "    .dataframe tbody tr th {\n",
       "        vertical-align: top;\n",
       "    }\n",
       "\n",
       "    .dataframe thead th {\n",
       "        text-align: right;\n",
       "    }\n",
       "</style>\n",
       "<table border=\"1\" class=\"dataframe\">\n",
       "  <thead>\n",
       "    <tr style=\"text-align: right;\">\n",
       "      <th></th>\n",
       "      <th>tconst</th>\n",
       "      <th>averageRating</th>\n",
       "      <th>numVotes</th>\n",
       "      <th>startYear</th>\n",
       "      <th>genres</th>\n",
       "      <th>directors</th>\n",
       "      <th>writers</th>\n",
       "      <th>weight</th>\n",
       "    </tr>\n",
       "  </thead>\n",
       "  <tbody>\n",
       "    <tr>\n",
       "      <th>11</th>\n",
       "      <td>tt0041005</td>\n",
       "      <td>6.0</td>\n",
       "      <td>41</td>\n",
       "      <td>1949</td>\n",
       "      <td>Drama,History</td>\n",
       "      <td>nm0146769,nm2577273,nm1802165</td>\n",
       "      <td>nm2436797</td>\n",
       "      <td>6.006435</td>\n",
       "    </tr>\n",
       "    <tr>\n",
       "      <th>12</th>\n",
       "      <td>tt0041007</td>\n",
       "      <td>6.2</td>\n",
       "      <td>56</td>\n",
       "      <td>1949</td>\n",
       "      <td>Drama</td>\n",
       "      <td>nm0884037,nm0230529,nm1037509,nm0773780,nm0723...</td>\n",
       "      <td>nm3008552,nm0096395,nm0096831,nm1709258,nm1412...</td>\n",
       "      <td>6.330640</td>\n",
       "    </tr>\n",
       "  </tbody>\n",
       "</table>\n",
       "</div>"
      ],
      "text/plain": [
       "       tconst  averageRating  numVotes  startYear         genres   \n",
       "11  tt0041005            6.0        41       1949  Drama,History  \\\n",
       "12  tt0041007            6.2        56       1949          Drama   \n",
       "\n",
       "                                            directors   \n",
       "11                      nm0146769,nm2577273,nm1802165  \\\n",
       "12  nm0884037,nm0230529,nm1037509,nm0773780,nm0723...   \n",
       "\n",
       "                                              writers    weight  \n",
       "11                                          nm2436797  6.006435  \n",
       "12  nm3008552,nm0096395,nm0096831,nm1709258,nm1412...  6.330640  "
      ]
     },
     "execution_count": 144,
     "metadata": {},
     "output_type": "execute_result"
    }
   ],
   "source": [
    "df.iloc[MovieREC(Filter(df))]"
   ]
  },
  {
   "cell_type": "markdown",
   "metadata": {},
   "source": [
    "## Check it is deterministic"
   ]
  },
  {
   "cell_type": "code",
   "execution_count": 145,
   "metadata": {},
   "outputs": [
    {
     "data": {
      "text/html": [
       "<div>\n",
       "<style scoped>\n",
       "    .dataframe tbody tr th:only-of-type {\n",
       "        vertical-align: middle;\n",
       "    }\n",
       "\n",
       "    .dataframe tbody tr th {\n",
       "        vertical-align: top;\n",
       "    }\n",
       "\n",
       "    .dataframe thead th {\n",
       "        text-align: right;\n",
       "    }\n",
       "</style>\n",
       "<table border=\"1\" class=\"dataframe\">\n",
       "  <thead>\n",
       "    <tr style=\"text-align: right;\">\n",
       "      <th></th>\n",
       "      <th>tconst</th>\n",
       "      <th>averageRating</th>\n",
       "      <th>numVotes</th>\n",
       "      <th>startYear</th>\n",
       "      <th>genres</th>\n",
       "      <th>directors</th>\n",
       "      <th>writers</th>\n",
       "      <th>weight</th>\n",
       "    </tr>\n",
       "  </thead>\n",
       "  <tbody>\n",
       "    <tr>\n",
       "      <th>11</th>\n",
       "      <td>tt0041005</td>\n",
       "      <td>6.0</td>\n",
       "      <td>41</td>\n",
       "      <td>1949</td>\n",
       "      <td>Drama,History</td>\n",
       "      <td>nm0146769,nm2577273,nm1802165</td>\n",
       "      <td>nm2436797</td>\n",
       "      <td>6.006435</td>\n",
       "    </tr>\n",
       "    <tr>\n",
       "      <th>12</th>\n",
       "      <td>tt0041007</td>\n",
       "      <td>6.2</td>\n",
       "      <td>56</td>\n",
       "      <td>1949</td>\n",
       "      <td>Drama</td>\n",
       "      <td>nm0884037,nm0230529,nm1037509,nm0773780,nm0723...</td>\n",
       "      <td>nm3008552,nm0096395,nm0096831,nm1709258,nm1412...</td>\n",
       "      <td>6.330640</td>\n",
       "    </tr>\n",
       "  </tbody>\n",
       "</table>\n",
       "</div>"
      ],
      "text/plain": [
       "       tconst  averageRating  numVotes  startYear         genres   \n",
       "11  tt0041005            6.0        41       1949  Drama,History  \\\n",
       "12  tt0041007            6.2        56       1949          Drama   \n",
       "\n",
       "                                            directors   \n",
       "11                      nm0146769,nm2577273,nm1802165  \\\n",
       "12  nm0884037,nm0230529,nm1037509,nm0773780,nm0723...   \n",
       "\n",
       "                                              writers    weight  \n",
       "11                                          nm2436797  6.006435  \n",
       "12  nm3008552,nm0096395,nm0096831,nm1709258,nm1412...  6.330640  "
      ]
     },
     "execution_count": 145,
     "metadata": {},
     "output_type": "execute_result"
    }
   ],
   "source": [
    "df.iloc[MovieREC(Filter(df))]"
   ]
  },
  {
   "cell_type": "markdown",
   "metadata": {},
   "source": [
    "## Try by filtering out the preceiding result"
   ]
  },
  {
   "cell_type": "code",
   "execution_count": 147,
   "metadata": {},
   "outputs": [
    {
     "data": {
      "text/html": [
       "<div>\n",
       "<style scoped>\n",
       "    .dataframe tbody tr th:only-of-type {\n",
       "        vertical-align: middle;\n",
       "    }\n",
       "\n",
       "    .dataframe tbody tr th {\n",
       "        vertical-align: top;\n",
       "    }\n",
       "\n",
       "    .dataframe thead th {\n",
       "        text-align: right;\n",
       "    }\n",
       "</style>\n",
       "<table border=\"1\" class=\"dataframe\">\n",
       "  <thead>\n",
       "    <tr style=\"text-align: right;\">\n",
       "      <th></th>\n",
       "      <th>tconst</th>\n",
       "      <th>averageRating</th>\n",
       "      <th>numVotes</th>\n",
       "      <th>startYear</th>\n",
       "      <th>genres</th>\n",
       "      <th>directors</th>\n",
       "      <th>writers</th>\n",
       "      <th>weight</th>\n",
       "    </tr>\n",
       "  </thead>\n",
       "  <tbody>\n",
       "    <tr>\n",
       "      <th>11</th>\n",
       "      <td>tt0041005</td>\n",
       "      <td>6.0</td>\n",
       "      <td>41</td>\n",
       "      <td>1949</td>\n",
       "      <td>Drama,History</td>\n",
       "      <td>nm0146769,nm2577273,nm1802165</td>\n",
       "      <td>nm2436797</td>\n",
       "      <td>6.006435</td>\n",
       "    </tr>\n",
       "    <tr>\n",
       "      <th>12</th>\n",
       "      <td>tt0041007</td>\n",
       "      <td>6.2</td>\n",
       "      <td>56</td>\n",
       "      <td>1949</td>\n",
       "      <td>Drama</td>\n",
       "      <td>nm0884037,nm0230529,nm1037509,nm0773780,nm0723...</td>\n",
       "      <td>nm3008552,nm0096395,nm0096831,nm1709258,nm1412...</td>\n",
       "      <td>6.330640</td>\n",
       "    </tr>\n",
       "  </tbody>\n",
       "</table>\n",
       "</div>"
      ],
      "text/plain": [
       "       tconst  averageRating  numVotes  startYear         genres   \n",
       "11  tt0041005            6.0        41       1949  Drama,History  \\\n",
       "12  tt0041007            6.2        56       1949          Drama   \n",
       "\n",
       "                                            directors   \n",
       "11                      nm0146769,nm2577273,nm1802165  \\\n",
       "12  nm0884037,nm0230529,nm1037509,nm0773780,nm0723...   \n",
       "\n",
       "                                              writers    weight  \n",
       "11                                          nm2436797  6.006435  \n",
       "12  nm3008552,nm0096395,nm0096831,nm1709258,nm1412...  6.330640  "
      ]
     },
     "execution_count": 147,
     "metadata": {},
     "output_type": "execute_result"
    }
   ],
   "source": [
    "df.iloc[MovieREC(Filter(df, minRating=8, maxRating=10))]"
   ]
  }
 ],
 "metadata": {
  "kernelspec": {
   "display_name": "Python 3",
   "language": "python",
   "name": "python3"
  },
  "language_info": {
   "codemirror_mode": {
    "name": "ipython",
    "version": 3
   },
   "file_extension": ".py",
   "mimetype": "text/x-python",
   "name": "python",
   "nbconvert_exporter": "python",
   "pygments_lexer": "ipython3",
   "version": "3.10.2"
  }
 },
 "nbformat": 4,
 "nbformat_minor": 2
}
