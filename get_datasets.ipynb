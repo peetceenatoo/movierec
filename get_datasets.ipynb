{
 "cells": [
  {
   "cell_type": "markdown",
   "metadata": {},
   "source": [
    "# **IMPORT**"
   ]
  },
  {
   "cell_type": "markdown",
   "metadata": {},
   "source": [
    "## Import the libraries"
   ]
  },
  {
   "cell_type": "code",
   "execution_count": 1,
   "metadata": {},
   "outputs": [],
   "source": [
    "import gzip\n",
    "import pandas as pd"
   ]
  },
  {
   "cell_type": "markdown",
   "metadata": {},
   "source": [
    "## Load the datasets"
   ]
  },
  {
   "cell_type": "markdown",
   "metadata": {},
   "source": [
    "\"[...] ratings have been taken from www.imdb.com\"\n",
    "\n",
    "Download: https://datasets.imdbws.com/\n",
    "\n",
    "Documentation: https://developer.imdb.com/non-commercial-datasets/\n"
   ]
  },
  {
   "cell_type": "code",
   "execution_count": 2,
   "metadata": {},
   "outputs": [
    {
     "data": {
      "text/html": [
       "<div>\n",
       "<style scoped>\n",
       "    .dataframe tbody tr th:only-of-type {\n",
       "        vertical-align: middle;\n",
       "    }\n",
       "\n",
       "    .dataframe tbody tr th {\n",
       "        vertical-align: top;\n",
       "    }\n",
       "\n",
       "    .dataframe thead th {\n",
       "        text-align: right;\n",
       "    }\n",
       "</style>\n",
       "<table border=\"1\" class=\"dataframe\">\n",
       "  <thead>\n",
       "    <tr style=\"text-align: right;\">\n",
       "      <th></th>\n",
       "      <th>tconst</th>\n",
       "      <th>startYear</th>\n",
       "      <th>genres</th>\n",
       "    </tr>\n",
       "  </thead>\n",
       "  <tbody>\n",
       "    <tr>\n",
       "      <th>35171</th>\n",
       "      <td>tt0035803</td>\n",
       "      <td>1940</td>\n",
       "      <td>Documentary,News</td>\n",
       "    </tr>\n",
       "    <tr>\n",
       "      <th>37599</th>\n",
       "      <td>tt0038276</td>\n",
       "      <td>1946</td>\n",
       "      <td>Talk-Show</td>\n",
       "    </tr>\n",
       "    <tr>\n",
       "      <th>38433</th>\n",
       "      <td>tt0039120</td>\n",
       "      <td>1947</td>\n",
       "      <td>Family,Game-Show</td>\n",
       "    </tr>\n",
       "    <tr>\n",
       "      <th>38434</th>\n",
       "      <td>tt0039121</td>\n",
       "      <td>1947</td>\n",
       "      <td>Family</td>\n",
       "    </tr>\n",
       "    <tr>\n",
       "      <th>38436</th>\n",
       "      <td>tt0039123</td>\n",
       "      <td>1947</td>\n",
       "      <td>Drama</td>\n",
       "    </tr>\n",
       "  </tbody>\n",
       "</table>\n",
       "</div>"
      ],
      "text/plain": [
       "          tconst startYear            genres\n",
       "35171  tt0035803      1940  Documentary,News\n",
       "37599  tt0038276      1946         Talk-Show\n",
       "38433  tt0039120      1947  Family,Game-Show\n",
       "38434  tt0039121      1947            Family\n",
       "38436  tt0039123      1947             Drama"
      ]
     },
     "execution_count": 2,
     "metadata": {},
     "output_type": "execute_result"
    }
   ],
   "source": [
    "movie_basics_path = f'./Datasets/title.basics.tsv.gz'\n",
    "\n",
    "# Open the gzipped file\n",
    "with gzip.open(movie_basics_path, 'rt', encoding='utf-8') as f:\n",
    "    # Specify '\\t' as the separator for TSV files\n",
    "    df_basics = pd.read_csv(f, sep='\\t', encoding='utf-8', low_memory=False)\n",
    "\n",
    "# Drop columns titleType, primaryTitle, originalTitle, isAdult, runtimeMinutes\n",
    "df_basics = df_basics.drop(columns=['titleType', 'primaryTitle', 'originalTitle', 'isAdult', 'runtimeMinutes'])\n",
    "\n",
    "# Drop rows with any NaN value\n",
    "df_basics.replace('\\\\N', pd.NA, inplace=True)\n",
    "df_basics = df_basics.dropna()\n",
    "\n",
    "# Drop column endYear\n",
    "df_basics = df_basics.drop(columns=['endYear'])\n",
    "\n",
    "df_basics.head()"
   ]
  },
  {
   "cell_type": "code",
   "execution_count": 3,
   "metadata": {},
   "outputs": [
    {
     "data": {
      "text/html": [
       "<div>\n",
       "<style scoped>\n",
       "    .dataframe tbody tr th:only-of-type {\n",
       "        vertical-align: middle;\n",
       "    }\n",
       "\n",
       "    .dataframe tbody tr th {\n",
       "        vertical-align: top;\n",
       "    }\n",
       "\n",
       "    .dataframe thead th {\n",
       "        text-align: right;\n",
       "    }\n",
       "</style>\n",
       "<table border=\"1\" class=\"dataframe\">\n",
       "  <thead>\n",
       "    <tr style=\"text-align: right;\">\n",
       "      <th></th>\n",
       "      <th>tconst</th>\n",
       "      <th>directors</th>\n",
       "      <th>writers</th>\n",
       "    </tr>\n",
       "  </thead>\n",
       "  <tbody>\n",
       "    <tr>\n",
       "      <th>8</th>\n",
       "      <td>tt0000009</td>\n",
       "      <td>nm0085156</td>\n",
       "      <td>nm0085156</td>\n",
       "    </tr>\n",
       "    <tr>\n",
       "      <th>34</th>\n",
       "      <td>tt0000036</td>\n",
       "      <td>nm0005690</td>\n",
       "      <td>nm0410331</td>\n",
       "    </tr>\n",
       "    <tr>\n",
       "      <th>74</th>\n",
       "      <td>tt0000076</td>\n",
       "      <td>nm0005690</td>\n",
       "      <td>nm0410331</td>\n",
       "    </tr>\n",
       "    <tr>\n",
       "      <th>89</th>\n",
       "      <td>tt0000091</td>\n",
       "      <td>nm0617588</td>\n",
       "      <td>nm0617588</td>\n",
       "    </tr>\n",
       "    <tr>\n",
       "      <th>106</th>\n",
       "      <td>tt0000108</td>\n",
       "      <td>nm0005690</td>\n",
       "      <td>nm0410331</td>\n",
       "    </tr>\n",
       "  </tbody>\n",
       "</table>\n",
       "</div>"
      ],
      "text/plain": [
       "        tconst  directors    writers\n",
       "8    tt0000009  nm0085156  nm0085156\n",
       "34   tt0000036  nm0005690  nm0410331\n",
       "74   tt0000076  nm0005690  nm0410331\n",
       "89   tt0000091  nm0617588  nm0617588\n",
       "106  tt0000108  nm0005690  nm0410331"
      ]
     },
     "execution_count": 3,
     "metadata": {},
     "output_type": "execute_result"
    }
   ],
   "source": [
    "file_path_movie_crew = f'./Datasets/title.crew.tsv.gz'\n",
    "\n",
    "# Open the gzipped file and read it using pandas\n",
    "with gzip.open(file_path_movie_crew, 'rt') as f:\n",
    "    # Specify '\\t' as the separator for TSV files\n",
    "    df_crew = pd.read_csv(f, sep='\\t', encoding='utf-8')\n",
    "\n",
    "# Drop rows with any NaN value\n",
    "df_crew.replace('\\\\N', pd.NA, inplace=True)\n",
    "df_crew = df_crew.dropna()\n",
    "    \n",
    "df_crew.head() # Notice directors and authors are stored by their own IDs"
   ]
  },
  {
   "cell_type": "code",
   "execution_count": 4,
   "metadata": {},
   "outputs": [
    {
     "data": {
      "text/html": [
       "<div>\n",
       "<style scoped>\n",
       "    .dataframe tbody tr th:only-of-type {\n",
       "        vertical-align: middle;\n",
       "    }\n",
       "\n",
       "    .dataframe tbody tr th {\n",
       "        vertical-align: top;\n",
       "    }\n",
       "\n",
       "    .dataframe thead th {\n",
       "        text-align: right;\n",
       "    }\n",
       "</style>\n",
       "<table border=\"1\" class=\"dataframe\">\n",
       "  <thead>\n",
       "    <tr style=\"text-align: right;\">\n",
       "      <th></th>\n",
       "      <th>tconst</th>\n",
       "      <th>averageRating</th>\n",
       "      <th>numVotes</th>\n",
       "    </tr>\n",
       "  </thead>\n",
       "  <tbody>\n",
       "    <tr>\n",
       "      <th>0</th>\n",
       "      <td>tt0000001</td>\n",
       "      <td>5.7</td>\n",
       "      <td>2025</td>\n",
       "    </tr>\n",
       "    <tr>\n",
       "      <th>1</th>\n",
       "      <td>tt0000002</td>\n",
       "      <td>5.7</td>\n",
       "      <td>272</td>\n",
       "    </tr>\n",
       "    <tr>\n",
       "      <th>2</th>\n",
       "      <td>tt0000003</td>\n",
       "      <td>6.5</td>\n",
       "      <td>1967</td>\n",
       "    </tr>\n",
       "    <tr>\n",
       "      <th>3</th>\n",
       "      <td>tt0000004</td>\n",
       "      <td>5.4</td>\n",
       "      <td>178</td>\n",
       "    </tr>\n",
       "    <tr>\n",
       "      <th>4</th>\n",
       "      <td>tt0000005</td>\n",
       "      <td>6.2</td>\n",
       "      <td>2729</td>\n",
       "    </tr>\n",
       "  </tbody>\n",
       "</table>\n",
       "</div>"
      ],
      "text/plain": [
       "      tconst  averageRating  numVotes\n",
       "0  tt0000001            5.7      2025\n",
       "1  tt0000002            5.7       272\n",
       "2  tt0000003            6.5      1967\n",
       "3  tt0000004            5.4       178\n",
       "4  tt0000005            6.2      2729"
      ]
     },
     "execution_count": 4,
     "metadata": {},
     "output_type": "execute_result"
    }
   ],
   "source": [
    "file_path_movie_ratings = f'./Datasets/title.ratings.tsv.gz'\n",
    "\n",
    "# Open the gzipped file and read it using pandas\n",
    "with gzip.open(file_path_movie_ratings, 'rt') as f:\n",
    "    # Specify '\\t' as the separator for TSV files\n",
    "    df_ratings = pd.read_csv(f, sep='\\t', encoding='utf-8')\n",
    "\n",
    "# Drop rows with any NaN value\n",
    "df_ratings.replace('\\\\N', pd.NA, inplace=True)\n",
    "df_ratings = df_ratings.dropna()\n",
    "\n",
    "df_ratings.head()"
   ]
  },
  {
   "cell_type": "markdown",
   "metadata": {},
   "source": [
    "# **MERGE**"
   ]
  },
  {
   "cell_type": "markdown",
   "metadata": {},
   "source": [
    "## Merge the three datasets on _tconst_"
   ]
  },
  {
   "cell_type": "markdown",
   "metadata": {},
   "source": [
    "\"In proposed model we use a pre filter before applying K-means algorithm. The attributes used to calculate distance of each point from centroid are Genre, Author, Director, Year, Rating.\""
   ]
  },
  {
   "cell_type": "code",
   "execution_count": 5,
   "metadata": {},
   "outputs": [
    {
     "name": "stdout",
     "output_type": "stream",
     "text": [
      "Only 39008 movies are left!\n"
     ]
    },
    {
     "data": {
      "text/html": [
       "<div>\n",
       "<style scoped>\n",
       "    .dataframe tbody tr th:only-of-type {\n",
       "        vertical-align: middle;\n",
       "    }\n",
       "\n",
       "    .dataframe tbody tr th {\n",
       "        vertical-align: top;\n",
       "    }\n",
       "\n",
       "    .dataframe thead th {\n",
       "        text-align: right;\n",
       "    }\n",
       "</style>\n",
       "<table border=\"1\" class=\"dataframe\">\n",
       "  <thead>\n",
       "    <tr style=\"text-align: right;\">\n",
       "      <th></th>\n",
       "      <th>tconst</th>\n",
       "      <th>averageRating</th>\n",
       "      <th>numVotes</th>\n",
       "      <th>startYear</th>\n",
       "      <th>genres</th>\n",
       "      <th>directors</th>\n",
       "      <th>writers</th>\n",
       "    </tr>\n",
       "  </thead>\n",
       "  <tbody>\n",
       "    <tr>\n",
       "      <th>0</th>\n",
       "      <td>tt0039123</td>\n",
       "      <td>8.0</td>\n",
       "      <td>218</td>\n",
       "      <td>1947</td>\n",
       "      <td>Drama</td>\n",
       "      <td>nm0390776,nm2427430,nm0334353,nm0242409,nm1802...</td>\n",
       "      <td>nm1055756,nm0590316,nm0913670,nm0044801,nm0442...</td>\n",
       "    </tr>\n",
       "    <tr>\n",
       "      <th>1</th>\n",
       "      <td>tt0040021</td>\n",
       "      <td>6.9</td>\n",
       "      <td>88</td>\n",
       "      <td>1948</td>\n",
       "      <td>Drama</td>\n",
       "      <td>nm0696296,nm0781751,nm0912998,nm0000989,nm5625137</td>\n",
       "      <td>nm0048758,nm1497206,nm0070948,nm0116693,nm0129...</td>\n",
       "    </tr>\n",
       "    <tr>\n",
       "      <th>2</th>\n",
       "      <td>tt0040033</td>\n",
       "      <td>6.2</td>\n",
       "      <td>19</td>\n",
       "      <td>1948</td>\n",
       "      <td>Family,Game-Show</td>\n",
       "      <td>nm0343431,nm10484169,nm0228208,nm1055550</td>\n",
       "      <td>nm1257510</td>\n",
       "    </tr>\n",
       "    <tr>\n",
       "      <th>3</th>\n",
       "      <td>tt0040036</td>\n",
       "      <td>7.4</td>\n",
       "      <td>49</td>\n",
       "      <td>1948</td>\n",
       "      <td>Drama</td>\n",
       "      <td>nm0626972,nm0232401,nm15065603,nm0076150,nm024...</td>\n",
       "      <td>nm2436797,nm0168641,nm1198517,nm0701090,nm0090...</td>\n",
       "    </tr>\n",
       "    <tr>\n",
       "      <th>4</th>\n",
       "      <td>tt0040041</td>\n",
       "      <td>7.6</td>\n",
       "      <td>160</td>\n",
       "      <td>1948</td>\n",
       "      <td>Comedy,Family</td>\n",
       "      <td>nm0370749,nm0308417,nm0000926,nm0143653,nm0809967</td>\n",
       "      <td>nm0549359,nm0459708,nm0009640,nm0123611,nm0224...</td>\n",
       "    </tr>\n",
       "  </tbody>\n",
       "</table>\n",
       "</div>"
      ],
      "text/plain": [
       "      tconst  averageRating  numVotes startYear            genres   \n",
       "0  tt0039123            8.0       218      1947             Drama  \\\n",
       "1  tt0040021            6.9        88      1948             Drama   \n",
       "2  tt0040033            6.2        19      1948  Family,Game-Show   \n",
       "3  tt0040036            7.4        49      1948             Drama   \n",
       "4  tt0040041            7.6       160      1948     Comedy,Family   \n",
       "\n",
       "                                           directors   \n",
       "0  nm0390776,nm2427430,nm0334353,nm0242409,nm1802...  \\\n",
       "1  nm0696296,nm0781751,nm0912998,nm0000989,nm5625137   \n",
       "2           nm0343431,nm10484169,nm0228208,nm1055550   \n",
       "3  nm0626972,nm0232401,nm15065603,nm0076150,nm024...   \n",
       "4  nm0370749,nm0308417,nm0000926,nm0143653,nm0809967   \n",
       "\n",
       "                                             writers  \n",
       "0  nm1055756,nm0590316,nm0913670,nm0044801,nm0442...  \n",
       "1  nm0048758,nm1497206,nm0070948,nm0116693,nm0129...  \n",
       "2                                          nm1257510  \n",
       "3  nm2436797,nm0168641,nm1198517,nm0701090,nm0090...  \n",
       "4  nm0549359,nm0459708,nm0009640,nm0123611,nm0224...  "
      ]
     },
     "execution_count": 5,
     "metadata": {},
     "output_type": "execute_result"
    }
   ],
   "source": [
    "# When merging, it only includes rows with matching 'tconst' values in all three DataFrames.\n",
    "df = pd.merge(df_ratings, pd.merge(df_basics, df_crew, on='tconst'), on='tconst')\n",
    "\n",
    "# Drop rows with any NaN value\n",
    "df.replace('\\\\N', pd.NA, inplace=True)\n",
    "df = df.dropna()\n",
    "\n",
    "print(f\"Only {len(df)} movies are left!\") \n",
    "df.head()\n"
   ]
  },
  {
   "cell_type": "markdown",
   "metadata": {},
   "source": [
    "# **PRE-PROCESS WEIGHTS**"
   ]
  },
  {
   "cell_type": "markdown",
   "metadata": {},
   "source": [
    "## Compute the weight for each attribute of each movie"
   ]
  },
  {
   "cell_type": "markdown",
   "metadata": {},
   "source": [
    "See \"Weightage and matching of attributes\" in section 3.3"
   ]
  },
  {
   "cell_type": "code",
   "execution_count": 6,
   "metadata": {},
   "outputs": [
    {
     "ename": "KeyError",
     "evalue": "'authors'",
     "output_type": "error",
     "traceback": [
      "\u001b[1;31m---------------------------------------------------------------------------\u001b[0m",
      "\u001b[1;31mKeyError\u001b[0m                                  Traceback (most recent call last)",
      "File \u001b[1;32mc:\\Users\\picci\\AppData\\Local\\Programs\\Python\\Python310\\lib\\site-packages\\pandas\\core\\indexes\\base.py:3652\u001b[0m, in \u001b[0;36mIndex.get_loc\u001b[1;34m(self, key)\u001b[0m\n\u001b[0;32m   3651\u001b[0m \u001b[38;5;28;01mtry\u001b[39;00m:\n\u001b[1;32m-> 3652\u001b[0m     \u001b[38;5;28;01mreturn\u001b[39;00m \u001b[38;5;28;43mself\u001b[39;49m\u001b[38;5;241;43m.\u001b[39;49m\u001b[43m_engine\u001b[49m\u001b[38;5;241;43m.\u001b[39;49m\u001b[43mget_loc\u001b[49m\u001b[43m(\u001b[49m\u001b[43mcasted_key\u001b[49m\u001b[43m)\u001b[49m\n\u001b[0;32m   3653\u001b[0m \u001b[38;5;28;01mexcept\u001b[39;00m \u001b[38;5;167;01mKeyError\u001b[39;00m \u001b[38;5;28;01mas\u001b[39;00m err:\n",
      "File \u001b[1;32mc:\\Users\\picci\\AppData\\Local\\Programs\\Python\\Python310\\lib\\site-packages\\pandas\\_libs\\index.pyx:147\u001b[0m, in \u001b[0;36mpandas._libs.index.IndexEngine.get_loc\u001b[1;34m()\u001b[0m\n",
      "File \u001b[1;32mc:\\Users\\picci\\AppData\\Local\\Programs\\Python\\Python310\\lib\\site-packages\\pandas\\_libs\\index.pyx:176\u001b[0m, in \u001b[0;36mpandas._libs.index.IndexEngine.get_loc\u001b[1;34m()\u001b[0m\n",
      "File \u001b[1;32mpandas\\_libs\\hashtable_class_helper.pxi:7080\u001b[0m, in \u001b[0;36mpandas._libs.hashtable.PyObjectHashTable.get_item\u001b[1;34m()\u001b[0m\n",
      "File \u001b[1;32mpandas\\_libs\\hashtable_class_helper.pxi:7088\u001b[0m, in \u001b[0;36mpandas._libs.hashtable.PyObjectHashTable.get_item\u001b[1;34m()\u001b[0m\n",
      "\u001b[1;31mKeyError\u001b[0m: 'authors'",
      "\nThe above exception was the direct cause of the following exception:\n",
      "\u001b[1;31mKeyError\u001b[0m                                  Traceback (most recent call last)",
      "Cell \u001b[1;32mIn[6], line 16\u001b[0m\n\u001b[0;32m     14\u001b[0m df[\u001b[38;5;124m'\u001b[39m\u001b[38;5;124mgenres_set\u001b[39m\u001b[38;5;124m'\u001b[39m] \u001b[38;5;241m=\u001b[39m df[\u001b[38;5;124m'\u001b[39m\u001b[38;5;124mgenres\u001b[39m\u001b[38;5;124m'\u001b[39m]\u001b[38;5;241m.\u001b[39mapply(\u001b[38;5;28;01mlambda\u001b[39;00m x: \u001b[38;5;28mset\u001b[39m(x\u001b[38;5;241m.\u001b[39msplit(\u001b[38;5;124m'\u001b[39m\u001b[38;5;124m,\u001b[39m\u001b[38;5;124m'\u001b[39m)))\n\u001b[0;32m     15\u001b[0m df[\u001b[38;5;124m'\u001b[39m\u001b[38;5;124mdirectors_set\u001b[39m\u001b[38;5;124m'\u001b[39m] \u001b[38;5;241m=\u001b[39m df[\u001b[38;5;124m'\u001b[39m\u001b[38;5;124mdirectors\u001b[39m\u001b[38;5;124m'\u001b[39m]\u001b[38;5;241m.\u001b[39mapply(\u001b[38;5;28;01mlambda\u001b[39;00m x: \u001b[38;5;28mset\u001b[39m(x\u001b[38;5;241m.\u001b[39msplit(\u001b[38;5;124m'\u001b[39m\u001b[38;5;124m,\u001b[39m\u001b[38;5;124m'\u001b[39m)))\n\u001b[1;32m---> 16\u001b[0m df[\u001b[38;5;124m'\u001b[39m\u001b[38;5;124mauthors_set\u001b[39m\u001b[38;5;124m'\u001b[39m] \u001b[38;5;241m=\u001b[39m \u001b[43mdf\u001b[49m\u001b[43m[\u001b[49m\u001b[38;5;124;43m'\u001b[39;49m\u001b[38;5;124;43mauthors\u001b[39;49m\u001b[38;5;124;43m'\u001b[39;49m\u001b[43m]\u001b[49m\u001b[38;5;241m.\u001b[39mapply(\u001b[38;5;28;01mlambda\u001b[39;00m x: \u001b[38;5;28mset\u001b[39m(x\u001b[38;5;241m.\u001b[39msplit(\u001b[38;5;124m'\u001b[39m\u001b[38;5;124m,\u001b[39m\u001b[38;5;124m'\u001b[39m)))\n\u001b[0;32m     18\u001b[0m \u001b[38;5;66;03m# frozenset is used to make the sets hashable\u001b[39;00m\n\u001b[0;32m     19\u001b[0m \u001b[38;5;66;03m# normalize=True returns the relative frequencies   \u001b[39;00m\n\u001b[0;32m     20\u001b[0m df[\u001b[38;5;124m'\u001b[39m\u001b[38;5;124mgenresWeight\u001b[39m\u001b[38;5;124m'\u001b[39m] \u001b[38;5;241m=\u001b[39m df[\u001b[38;5;124m'\u001b[39m\u001b[38;5;124mgenres_set\u001b[39m\u001b[38;5;124m'\u001b[39m]\u001b[38;5;241m.\u001b[39mapply(\u001b[38;5;28mfrozenset\u001b[39m)\u001b[38;5;241m.\u001b[39mmap(df[\u001b[38;5;124m'\u001b[39m\u001b[38;5;124mgenres_set\u001b[39m\u001b[38;5;124m'\u001b[39m]\u001b[38;5;241m.\u001b[39mapply(\u001b[38;5;28mfrozenset\u001b[39m)\u001b[38;5;241m.\u001b[39mvalue_counts(normalize\u001b[38;5;241m=\u001b[39m\u001b[38;5;28;01mTrue\u001b[39;00m))\n",
      "File \u001b[1;32mc:\\Users\\picci\\AppData\\Local\\Programs\\Python\\Python310\\lib\\site-packages\\pandas\\core\\frame.py:3760\u001b[0m, in \u001b[0;36mDataFrame.__getitem__\u001b[1;34m(self, key)\u001b[0m\n\u001b[0;32m   3758\u001b[0m \u001b[38;5;28;01mif\u001b[39;00m \u001b[38;5;28mself\u001b[39m\u001b[38;5;241m.\u001b[39mcolumns\u001b[38;5;241m.\u001b[39mnlevels \u001b[38;5;241m>\u001b[39m \u001b[38;5;241m1\u001b[39m:\n\u001b[0;32m   3759\u001b[0m     \u001b[38;5;28;01mreturn\u001b[39;00m \u001b[38;5;28mself\u001b[39m\u001b[38;5;241m.\u001b[39m_getitem_multilevel(key)\n\u001b[1;32m-> 3760\u001b[0m indexer \u001b[38;5;241m=\u001b[39m \u001b[38;5;28;43mself\u001b[39;49m\u001b[38;5;241;43m.\u001b[39;49m\u001b[43mcolumns\u001b[49m\u001b[38;5;241;43m.\u001b[39;49m\u001b[43mget_loc\u001b[49m\u001b[43m(\u001b[49m\u001b[43mkey\u001b[49m\u001b[43m)\u001b[49m\n\u001b[0;32m   3761\u001b[0m \u001b[38;5;28;01mif\u001b[39;00m is_integer(indexer):\n\u001b[0;32m   3762\u001b[0m     indexer \u001b[38;5;241m=\u001b[39m [indexer]\n",
      "File \u001b[1;32mc:\\Users\\picci\\AppData\\Local\\Programs\\Python\\Python310\\lib\\site-packages\\pandas\\core\\indexes\\base.py:3654\u001b[0m, in \u001b[0;36mIndex.get_loc\u001b[1;34m(self, key)\u001b[0m\n\u001b[0;32m   3652\u001b[0m     \u001b[38;5;28;01mreturn\u001b[39;00m \u001b[38;5;28mself\u001b[39m\u001b[38;5;241m.\u001b[39m_engine\u001b[38;5;241m.\u001b[39mget_loc(casted_key)\n\u001b[0;32m   3653\u001b[0m \u001b[38;5;28;01mexcept\u001b[39;00m \u001b[38;5;167;01mKeyError\u001b[39;00m \u001b[38;5;28;01mas\u001b[39;00m err:\n\u001b[1;32m-> 3654\u001b[0m     \u001b[38;5;28;01mraise\u001b[39;00m \u001b[38;5;167;01mKeyError\u001b[39;00m(key) \u001b[38;5;28;01mfrom\u001b[39;00m \u001b[38;5;21;01merr\u001b[39;00m\n\u001b[0;32m   3655\u001b[0m \u001b[38;5;28;01mexcept\u001b[39;00m \u001b[38;5;167;01mTypeError\u001b[39;00m:\n\u001b[0;32m   3656\u001b[0m     \u001b[38;5;66;03m# If we have a listlike key, _check_indexing_error will raise\u001b[39;00m\n\u001b[0;32m   3657\u001b[0m     \u001b[38;5;66;03m#  InvalidIndexError. Otherwise we fall through and re-raise\u001b[39;00m\n\u001b[0;32m   3658\u001b[0m     \u001b[38;5;66;03m#  the TypeError.\u001b[39;00m\n\u001b[0;32m   3659\u001b[0m     \u001b[38;5;28mself\u001b[39m\u001b[38;5;241m.\u001b[39m_check_indexing_error(key)\n",
      "\u001b[1;31mKeyError\u001b[0m: 'authors'"
     ]
    }
   ],
   "source": [
    "# For each column in (averageRating, startYear, genres, directors, writers), we will create a new column with the weight\n",
    "\n",
    "# Weight for averageRating is 1 if <5, and equals the rating if >=5, and it is multiplied by 2 if number of votes is >1000 and <=10000 and by 3 if >10000\n",
    "df['ratingWeight'] = df.apply(lambda row: 1 if row['averageRating'] < 5 else row['averageRating'], axis=1)\n",
    "df['ratingWeight'] = df.apply(lambda row: row['ratingWeight']*2 if row['numVotes'] > 1000 and row['numVotes'] <= 10000 else row['ratingWeight'], axis=1)\n",
    "df['ratingWeight'] = df.apply(lambda row: row['ratingWeight']*3 if row['numVotes'] > 10000 else row['ratingWeight'], axis=1)\n",
    "\n",
    "# Weight for the others is just the frequency of the value divided by the total number of movies\n",
    "df['startYearWeight'] = df['startYear'].value_counts() / len(df)\n",
    "\n",
    "# And, considering that genres, directors and writers are stored as strings with the IDs separated by commas\n",
    "\n",
    "# Add temporary columns to store the sets\n",
    "df['genres_set'] = df['genres'].apply(lambda x: set(x.split(',')))\n",
    "df['directors_set'] = df['directors'].apply(lambda x: set(x.split(',')))\n",
    "df['writers_set'] = df['writers'].apply(lambda x: set(x.split(',')))\n",
    "\n",
    "# frozenset is used to make the sets hashable\n",
    "# normalize=True returns the relative frequencies   \n",
    "df['genresWeight'] = df['genres_set'].apply(frozenset).map(df['genres_set'].apply(frozenset).value_counts(normalize=True))\n",
    "df['directorsWeight'] = df['directors_set'].apply(frozenset).map(df['directors_set'].apply(frozenset).value_counts(normalize=True))\n",
    "df['writersWeight'] = df['writers_set'].apply(frozenset).map(df['writers_set'].apply(frozenset).value_counts(normalize=True))\n",
    "\n",
    "# Drop temporary columns\n",
    "df = df.drop(columns=['genres_set', 'directors_set', 'writers_set'])\n"
   ]
  },
  {
   "cell_type": "markdown",
   "metadata": {},
   "source": [
    "# **STORE**"
   ]
  },
  {
   "cell_type": "markdown",
   "metadata": {},
   "source": [
    "## Save the filtered dataset as CSV"
   ]
  },
  {
   "cell_type": "code",
   "execution_count": null,
   "metadata": {},
   "outputs": [],
   "source": [
    "# Define the output file path\n",
    "output_file_path = f'./Datasets/dataset.csv'\n",
    "\n",
    "# index=False -> Do not save the row index values to the CSV file\n",
    "df.to_csv(output_file_path, index=False)\n",
    "\n"
   ]
  }
 ],
 "metadata": {
  "kernelspec": {
   "display_name": "Python 3",
   "language": "python",
   "name": "python3"
  },
  "language_info": {
   "codemirror_mode": {
    "name": "ipython",
    "version": 3
   },
   "file_extension": ".py",
   "mimetype": "text/x-python",
   "name": "python",
   "nbconvert_exporter": "python",
   "pygments_lexer": "ipython3",
   "version": "3.10.2"
  }
 },
 "nbformat": 4,
 "nbformat_minor": 2
}
